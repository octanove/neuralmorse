{
 "cells": [
  {
   "cell_type": "code",
   "execution_count": null,
   "id": "8276c2fa",
   "metadata": {},
   "outputs": [],
   "source": [
    "!pip install numpy==1.20.3\n",
    "!pip install sentencepiece==0.1.96"
   ]
  },
  {
   "cell_type": "code",
   "execution_count": null,
   "id": "a3233c17",
   "metadata": {},
   "outputs": [],
   "source": [
    "import csv\n",
    "import re\n",
    "\n",
    "import numpy as np\n",
    "import sentencepiece as spm\n",
    "\n",
    "from IPython.display import Audio"
   ]
  },
  {
   "cell_type": "code",
   "execution_count": null,
   "id": "20ca0a86",
   "metadata": {},
   "outputs": [],
   "source": [
    "!git clone https://github.com/octanove/neuralmorse.git"
   ]
  },
  {
   "cell_type": "code",
   "execution_count": null,
   "id": "7765f91c",
   "metadata": {},
   "outputs": [],
   "source": [
    "token2symbol = {}\n",
    "with open('neuralmorse/assignment.tsv') as f:\n",
    "    reader = csv.reader(f, delimiter='\\t')\n",
    "    for row in reader:\n",
    "        token2symbol[row[0]] = row[1]\n",
    "token2symbol['▁'] = ' '"
   ]
  },
  {
   "cell_type": "code",
   "execution_count": null,
   "id": "ed0811dc",
   "metadata": {},
   "outputs": [],
   "source": [
    "sp = spm.SentencePieceProcessor(model_file='neuralmorse/neuralmorse.sp.model')"
   ]
  },
  {
   "cell_type": "code",
   "execution_count": null,
   "id": "7f7d7701",
   "metadata": {},
   "outputs": [],
   "source": [
    "SR = 16000\n",
    "\n",
    "unit = 0.1    # length of one dot\n",
    "u = np.linspace(0, unit, int(unit*SR))\n",
    "u3 = np.linspace(0, unit*3, int(unit*SR*3))\n",
    "freq_e4 = 329.63\n",
    "freq_a4 = 440.00\n",
    "freq_b4 = 493.88\n",
    "freq_e5 = 659.25\n",
    "space = np.zeros_like(u)\n",
    "\n",
    "fade_time = 0.003\n",
    "fade_in = np.linspace(0, 1, int(fade_time*SR))\n",
    "fade_out = np.linspace(1, 0, int(fade_time*SR))\n",
    "sus_u = np.ones((int(unit*SR) - 2*int(fade_time*SR)))\n",
    "sus_u3 = np.ones((int(unit*3*SR) - 2*int(fade_time*SR)))\n",
    "env_u = np.concatenate((fade_in, sus_u, fade_out))\n",
    "env_u3 = np.concatenate((fade_in, sus_u3, fade_out))\n",
    "\n",
    "element2audio = {\n",
    "    'a': np.sin(2 * np.pi * freq_e4 * u) * env_u,\n",
    "    'A': np.sin(2 * np.pi * freq_e4 * u3) * env_u3,\n",
    "    'b': np.sin(2 * np.pi * freq_a4 * u) * env_u,\n",
    "    'B': np.sin(2 * np.pi * freq_a4 * u3) * env_u3,\n",
    "    'c': np.sin(2 * np.pi * freq_b4 * u) * env_u,\n",
    "    'C': np.sin(2 * np.pi * freq_b4 * u3) * env_u3,\n",
    "    'd': np.sin(2 * np.pi * freq_e5 * u) * env_u,\n",
    "    'D': np.sin(2 * np.pi * freq_e5 * u3) * env_u3,\n",
    "    ' ': space,\n",
    "}"
   ]
  },
  {
   "cell_type": "code",
   "execution_count": null,
   "id": "1da722a4",
   "metadata": {},
   "outputs": [],
   "source": [
    "def normalize(text):\n",
    "    text = text.lower()\n",
    "    text = text.replace(\"’\", \"'\")   # right single quotation mark -> apostrophe\n",
    "    text = text.replace(\"‘\", \"'\")   # left single quotation mark -> apostrophe\n",
    "    text = text.replace('“', '\"')   # left double quotation mark -> quotation mark\n",
    "    text = text.replace('”', '\"')   # right double quotation mark -> quotation mark\n",
    "    text = text.replace('–', '-')   # en dash -> hyphen\n",
    "    text = text.replace('—', '-')   # em dash -> hyphen\n",
    "    text = text.replace(\"\\u00AD\", '')   # soft hyphen\n",
    "    \n",
    "    return text"
   ]
  },
  {
   "cell_type": "code",
   "execution_count": null,
   "id": "65d2469e",
   "metadata": {},
   "outputs": [],
   "source": [
    "REPLACES = [\n",
    "    (\" can ' t \", \" ca n't \"),\n",
    "    (\" could n ' t \", \" could n't \"),\n",
    "    (\" co ul d n ' t \", \" could n't \"),\n",
    "    (\" won ' t \", \" wo n't \"),\n",
    "    (\" would n ' t \", \" would n't \"),\n",
    "    (\" don ' t \", \" do n't \"),\n",
    "    (\" d on ' t \", \" do n't \"),\n",
    "    (\" doesn ' t \", \" does n't \"),\n",
    "    (\" do es n ' t \", \" does n't \"),\n",
    "    (\" didn ' t \", \" did n't \"),\n",
    "    (\" d id n ' t \", \" did n't \"),\n",
    "    (\" have n ' t \", \" have n't \"),\n",
    "    (\" has n ' t \", \" has n't \"),\n",
    "    (\" had n ' t \", \" had n't \"),\n",
    "    (\" are n ' t \", \" are n't \"),\n",
    "    (\" is n ' t \", \" is n't \"),\n",
    "    (\" was n ' t \", \" was n't \"),\n",
    "    (\" were n ' t \", \" were n't \"),\n",
    "    (\" should n ' t \", \" should n't \"),\n",
    "    (\" must n ' t \", \" must n't \"),\n",
    "    (\" might n ' t \", \" might n't \"),\n",
    "    (\" need n ' t \", \" need n't \"),\n",
    "    (\" ' m \", \" 'm \"),\n",
    "    (\" ' d \", \" 'd \"),\n",
    "    (\" ' s \", \" 's \"),\n",
    "    (\" ' re \", \" 're \"),\n",
    "    (\" ' ll \", \" 'll \"),\n",
    "    (\" ' ve \", \" 've \"),\n",
    "    (\" didn \", \" did n \"),\n",
    "    (\" doesn \", \" does n \")\n",
    "]\n",
    "\n",
    "def postprocess(text):\n",
    "    text = re.sub(r'▁([^ ])', '▁ \\\\1', text)\n",
    "    text = re.sub(r'^▁ ', '', text)\n",
    "    for before, after in REPLACES:\n",
    "        text = text.replace(before, after)\n",
    "    return text"
   ]
  },
  {
   "cell_type": "code",
   "execution_count": null,
   "id": "f2859462",
   "metadata": {},
   "outputs": [],
   "source": [
    "def tokenize(text):\n",
    "    text = normalize(text)\n",
    "    token_ids = sp.encode(text)\n",
    "    tokens = sp.id_to_piece(token_ids)\n",
    "    tokens = postprocess(' '.join(tokens))\n",
    "    \n",
    "    return tokens"
   ]
  },
  {
   "cell_type": "code",
   "execution_count": null,
   "id": "37a770e2",
   "metadata": {},
   "outputs": [],
   "source": [
    "def tokens2audio(tokens):\n",
    "    elements = []\n",
    "    for token in tokens.split(' '):\n",
    "        elements.append(' '.join(token2symbol[token]))\n",
    "    elements = '   '.join(elements)\n",
    "    \n",
    "    audio = [element2audio[e] for e in elements]\n",
    "    audio = np.concatenate(audio)\n",
    "\n",
    "    return audio, elements"
   ]
  },
  {
   "cell_type": "code",
   "execution_count": null,
   "id": "2daf78cb",
   "metadata": {},
   "outputs": [],
   "source": [
    "text = 'NeuralMorse is a method for encoding text with eight tonal alphabets'\n",
    "tokens = tokenize(text)\n",
    "print('tokens:', tokens)\n",
    "audio, elements = tokens2audio(tokens)\n",
    "print('elements:', elements)\n",
    "Audio(audio, rate=SR)"
   ]
  },
  {
   "cell_type": "code",
   "execution_count": null,
   "id": "3ee9dfc8",
   "metadata": {},
   "outputs": [],
   "source": []
  }
 ],
 "metadata": {
  "kernelspec": {
   "display_name": "Python 3 (ipykernel)",
   "language": "python",
   "name": "python3"
  },
  "language_info": {
   "codemirror_mode": {
    "name": "ipython",
    "version": 3
   },
   "file_extension": ".py",
   "mimetype": "text/x-python",
   "name": "python",
   "nbconvert_exporter": "python",
   "pygments_lexer": "ipython3",
   "version": "3.8.12"
  }
 },
 "nbformat": 4,
 "nbformat_minor": 5
}
